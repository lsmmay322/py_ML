{
 "cells": [
  {
   "cell_type": "code",
   "execution_count": 1,
   "metadata": {},
   "outputs": [],
   "source": [
    "import numpy as np"
   ]
  },
  {
   "cell_type": "code",
   "execution_count": 149,
   "metadata": {},
   "outputs": [],
   "source": [
    "arr1 = np.array([1,2,3])\n",
    "arr2 = np.array([[1,2,3],\n",
    "                [2,3,4]])\n",
    "arr3 = np.array([[1,2,3]])\n",
    "arr4 = np.array([[[1,2,3],[3,4,5],[4,5,6]], [[2,3,4],[4,5,6],[7,5,4]]])"
   ]
  },
  {
   "cell_type": "code",
   "execution_count": 150,
   "metadata": {},
   "outputs": [
    {
     "name": "stdout",
     "output_type": "stream",
     "text": [
      "arr1 type :  <class 'numpy.ndarray'>\n",
      "arr2 type :  <class 'numpy.ndarray'>\n",
      "arr3 type :  <class 'numpy.ndarray'>\n",
      "arr4 type :  <class 'numpy.ndarray'>\n"
     ]
    }
   ],
   "source": [
    "print('arr1 type : ', type(arr1))\n",
    "print('arr2 type : ', type(arr2))\n",
    "print('arr3 type : ', type(arr3))\n",
    "print('arr4 type : ', type(arr4))"
   ]
  },
  {
   "cell_type": "code",
   "execution_count": 151,
   "metadata": {},
   "outputs": [
    {
     "name": "stdout",
     "output_type": "stream",
     "text": [
      "arr1 array 형태 :  (3,)\n",
      "arr2 array 형태 :  (2, 3)\n",
      "arr3 array 형태 :  (1, 3)\n",
      "arr4 array 형태 :  (2, 3, 3)\n"
     ]
    }
   ],
   "source": [
    "print('arr1 array 형태 : ', arr1.shape)\n",
    "print('arr2 array 형태 : ', arr2.shape)\n",
    "print('arr3 array 형태 : ', arr3.shape)\n",
    "print('arr4 array 형태 : ', arr4.shape)"
   ]
  },
  {
   "cell_type": "code",
   "execution_count": 152,
   "metadata": {},
   "outputs": [
    {
     "data": {
      "text/plain": [
       "3"
      ]
     },
     "execution_count": 152,
     "metadata": {},
     "output_type": "execute_result"
    }
   ],
   "source": [
    "arr4.ndim"
   ]
  },
  {
   "cell_type": "code",
   "execution_count": 153,
   "metadata": {},
   "outputs": [
    {
     "name": "stdout",
     "output_type": "stream",
     "text": [
      "arr1:1차원, arr2:2차원, arr3: 2차원, arr4:   3차원\n"
     ]
    }
   ],
   "source": [
    "print('arr1:{:0}차원, arr2:{:1}차원, arr3:{:2}차원, arr4:{:4}차원'.format(arr1.ndim,arr2.ndim,arr3.ndim,arr4.ndim))"
   ]
  },
  {
   "cell_type": "code",
   "execution_count": 39,
   "metadata": {},
   "outputs": [
    {
     "name": "stdout",
     "output_type": "stream",
     "text": [
      "<class 'list'>\n"
     ]
    }
   ],
   "source": [
    "list1 = [1,2,3]\n",
    "print(type(list1))"
   ]
  },
  {
   "cell_type": "code",
   "execution_count": 40,
   "metadata": {},
   "outputs": [
    {
     "name": "stdout",
     "output_type": "stream",
     "text": [
      "<class 'numpy.ndarray'>\n"
     ]
    }
   ],
   "source": [
    "arr1 = np.array(list1)\n",
    "print(type(arr1))"
   ]
  },
  {
   "cell_type": "code",
   "execution_count": 41,
   "metadata": {},
   "outputs": [
    {
     "name": "stdout",
     "output_type": "stream",
     "text": [
      "[1 2 3] int32\n"
     ]
    }
   ],
   "source": [
    "print(arr1, arr1.dtype)"
   ]
  },
  {
   "cell_type": "code",
   "execution_count": 43,
   "metadata": {},
   "outputs": [
    {
     "name": "stdout",
     "output_type": "stream",
     "text": [
      "['1' '2' 'test'] <U11\n"
     ]
    }
   ],
   "source": [
    "list2 = [1,2,'test']\n",
    "arr2 = np.array(list2)\n",
    "print(arr2, arr2.dtype)"
   ]
  },
  {
   "cell_type": "code",
   "execution_count": 44,
   "metadata": {},
   "outputs": [
    {
     "name": "stdout",
     "output_type": "stream",
     "text": [
      "[1. 2. 3.] <class 'numpy.ndarray'> float64\n"
     ]
    }
   ],
   "source": [
    "list3 = [1,2,3.0]\n",
    "arr3 = np.array(list3)\n",
    "print(arr3, type(arr3), arr3.dtype)"
   ]
  },
  {
   "cell_type": "code",
   "execution_count": 45,
   "metadata": {},
   "outputs": [
    {
     "name": "stdout",
     "output_type": "stream",
     "text": [
      "[1. 2. 3.] float64\n"
     ]
    }
   ],
   "source": [
    "arr_int = np.array([1,2,3])\n",
    "arr_float = arr_int.astype('float64')\n",
    "print(arr_float, arr_float.dtype)"
   ]
  },
  {
   "cell_type": "code",
   "execution_count": 46,
   "metadata": {},
   "outputs": [
    {
     "name": "stdout",
     "output_type": "stream",
     "text": [
      "[1 2 3] int32\n"
     ]
    }
   ],
   "source": [
    "arr_int1 = arr_float.astype('int32')\n",
    "print(arr_int1, arr_int1.dtype)"
   ]
  },
  {
   "cell_type": "code",
   "execution_count": 47,
   "metadata": {},
   "outputs": [
    {
     "name": "stdout",
     "output_type": "stream",
     "text": [
      "[1 2 3] int32\n"
     ]
    }
   ],
   "source": [
    "arr_float1 = np.array([1.1,2.2,3.3])\n",
    "arr_int2 = arr_float1.astype('int32')\n",
    "print(arr_int2, arr_int2.dtype)"
   ]
  },
  {
   "cell_type": "code",
   "execution_count": 134,
   "metadata": {},
   "outputs": [
    {
     "name": "stdout",
     "output_type": "stream",
     "text": [
      "[0. 1. 2. 3. 4. 5. 6. 7. 8. 9.]\n",
      "float64 (10,)\n"
     ]
    }
   ],
   "source": [
    "seq_arr = np.arange(10, dtype='float64')\n",
    "print(seq_arr)\n",
    "print(seq_arr.dtype, seq_arr.shape)"
   ]
  },
  {
   "cell_type": "code",
   "execution_count": 54,
   "metadata": {},
   "outputs": [
    {
     "name": "stdout",
     "output_type": "stream",
     "text": [
      "[[0 1 2 3 4 5 6 7 8 9]]\n",
      "int32 (1, 10)\n"
     ]
    }
   ],
   "source": [
    "seq_arr = np.arange(10).reshape(1, -1)\n",
    "print(seq_arr)\n",
    "print(seq_arr.dtype, seq_arr.shape)"
   ]
  },
  {
   "cell_type": "code",
   "execution_count": 55,
   "metadata": {},
   "outputs": [
    {
     "name": "stdout",
     "output_type": "stream",
     "text": [
      "[1 2 3 4 5 6 7 8 9]\n",
      "int32 (9,)\n"
     ]
    }
   ],
   "source": [
    "seq_arr = np.arange(1, 10) #default 값 : stop, 추가 인자 : start\n",
    "print(seq_arr)\n",
    "print(seq_arr.dtype, seq_arr.shape)"
   ]
  },
  {
   "cell_type": "code",
   "execution_count": 156,
   "metadata": {},
   "outputs": [
    {
     "name": "stdout",
     "output_type": "stream",
     "text": [
      "[[0. 0.]\n",
      " [0. 0.]\n",
      " [0. 0.]]\n",
      "float64 (3, 2)\n"
     ]
    }
   ],
   "source": [
    "zero_arr = np.zeros((3, 2))\n",
    "print(zero_arr)\n",
    "print(zero_arr.dtype, zero_arr.shape)"
   ]
  },
  {
   "cell_type": "code",
   "execution_count": 155,
   "metadata": {},
   "outputs": [
    {
     "name": "stdout",
     "output_type": "stream",
     "text": [
      "[[0. 0.]\n",
      " [0. 0.]\n",
      " [0. 0.]]\n",
      "float64 (3, 2)\n"
     ]
    }
   ],
   "source": [
    "zero_arr = np.zeros((3, 2))\n",
    "print(zero_arr)\n",
    "print(zero_arr.dtype, zero_arr.shape)"
   ]
  },
  {
   "cell_type": "code",
   "execution_count": 158,
   "metadata": {},
   "outputs": [
    {
     "name": "stdout",
     "output_type": "stream",
     "text": [
      "[[1 1]\n",
      " [1 1]\n",
      " [1 1]]\n",
      "int32 (3, 2)\n"
     ]
    }
   ],
   "source": [
    "one_arr = np.ones((3, 2), dtype='int32')\n",
    "print(one_arr)\n",
    "print(one_arr.dtype, one_arr.shape)"
   ]
  },
  {
   "cell_type": "code",
   "execution_count": 159,
   "metadata": {},
   "outputs": [
    {
     "name": "stdout",
     "output_type": "stream",
     "text": [
      "arr1 : \n",
      " [0 1 2 3 4 5 6 7 8 9]\n",
      "arr2 : \n",
      " [[0 1 2 3 4]\n",
      " [5 6 7 8 9]]\n",
      "arr3 : \n",
      " [[0 1]\n",
      " [2 3]\n",
      " [4 5]\n",
      " [6 7]\n",
      " [8 9]]\n"
     ]
    }
   ],
   "source": [
    "arr1 = np.arange(10)\n",
    "print(\"arr1 : \\n\", arr1)\n",
    "arr2 = arr1.reshape(2,5)\n",
    "print(\"arr2 : \\n\", arr2)\n",
    "arr3 = arr1.reshape(5, 2)\n",
    "print(\"arr3 : \\n\", arr3)"
   ]
  },
  {
   "cell_type": "code",
   "execution_count": 160,
   "metadata": {},
   "outputs": [
    {
     "name": "stdout",
     "output_type": "stream",
     "text": [
      "arr4 : \n",
      " [[0 1 2 3 4]\n",
      " [5 6 7 8 9]]\n"
     ]
    }
   ],
   "source": [
    "arr4 = arr1.reshape(-1,5)\n",
    "print(\"arr4 : \\n\", arr4)"
   ]
  },
  {
   "cell_type": "code",
   "execution_count": 164,
   "metadata": {},
   "outputs": [
    {
     "name": "stdout",
     "output_type": "stream",
     "text": [
      "arr3d : \n",
      " [[[0, 1], [2, 3]], [[4, 5], [6, 7]]]\n",
      "type :  <class 'list'>\n",
      "arr3d shape  (2, 2, 2)\n"
     ]
    }
   ],
   "source": [
    "arr1 = np.arange(8)\n",
    "arr3d = arr1.reshape((2,2,2))\n",
    "print(\"arr3d : \\n\", arr3d.tolist())\n",
    "print(\"type : \" , type(arr3d.tolist()))\n",
    "print(\"arr3d shape \", arr3d.shape)"
   ]
  },
  {
   "cell_type": "code",
   "execution_count": 72,
   "metadata": {},
   "outputs": [
    {
     "name": "stdout",
     "output_type": "stream",
     "text": [
      "arr5 : \n",
      " [[0], [1], [2], [3], [4], [5], [6], [7]]\n",
      "arr5 shape :  (8, 1)\n"
     ]
    }
   ],
   "source": [
    "arr5 = arr3d.reshape(-1, 1)\n",
    "print(\"arr5 : \\n\", arr5.tolist())\n",
    "print(\"arr5 shape : \", arr5.shape)"
   ]
  },
  {
   "cell_type": "code",
   "execution_count": 78,
   "metadata": {},
   "outputs": [
    {
     "name": "stdout",
     "output_type": "stream",
     "text": [
      "[1, 2, 3, 4, 5, 6, 7, 8, 9]\n",
      "9\n"
     ]
    }
   ],
   "source": [
    "arr1 = np.arange(1, 10)\n",
    "print(arr1.tolist())\n",
    "print(arr1[-1])"
   ]
  },
  {
   "cell_type": "code",
   "execution_count": 136,
   "metadata": {},
   "outputs": [
    {
     "name": "stdout",
     "output_type": "stream",
     "text": [
      "arr2d : \n",
      " [[1 2 3]\n",
      " [4 5 6]\n",
      " [7 8 9]]\n",
      "arr2d[0:2, 0:2] \n",
      " [[1 2]\n",
      " [4 5]]\n",
      "arr2d[1:3, 0:3] \n",
      " [[4 5 6]\n",
      " [7 8 9]]\n",
      "arr2d[1:3, :] \n",
      " [[4 5 6]\n",
      " [7 8 9]]\n",
      "arr2d[:, :] \n",
      " [[1 2 3]\n",
      " [4 5 6]\n",
      " [7 8 9]]\n",
      "arr2d[:2, 1:] \n",
      " [[2 3]\n",
      " [5 6]]\n",
      "arr2d[:2, 0] \n",
      " [1 4]\n"
     ]
    }
   ],
   "source": [
    "arr1d = np.arange(1, 10)\n",
    "arr2d = arr1d.reshape(-1, 3)\n",
    "print('arr2d : \\n', arr2d)\n",
    "\n",
    "print('arr2d[0:2, 0:2] \\n', arr2d[0:2, 0:2])\n",
    "print('arr2d[1:3, 0:3] \\n', arr2d[1:3, 0:3])\n",
    "print('arr2d[1:3, :] \\n', arr2d[1:3, :])\n",
    "print('arr2d[:, :] \\n', arr2d[:, :])\n",
    "print('arr2d[:2, 1:] \\n', arr2d[:2, 1:])\n",
    "print('arr2d[:2, 0] \\n', arr2d[:2, 0])"
   ]
  },
  {
   "cell_type": "code",
   "execution_count": 140,
   "metadata": {},
   "outputs": [
    {
     "name": "stdout",
     "output_type": "stream",
     "text": [
      "[3, 6]\n",
      "[[1, 2], [4, 5]]\n",
      "[[1 2 3]\n",
      " [4 5 6]]\n",
      "[1 2]\n"
     ]
    }
   ],
   "source": [
    "arr1d = np.arange(1, 10)\n",
    "arr2d = arr1d.reshape(-1, 3)\n",
    "\n",
    "arr3 = arr2d[[0,1], 2]\n",
    "print(arr3.tolist())\n",
    "\n",
    "arr4 = arr2d[[0, 1],0:2]\n",
    "print(arr4.tolist())\n",
    "\n",
    "arr5 = arr2d[[0, 1]]\n",
    "print(arr5)\n",
    "\n",
    "arr6 = arr1d[[0, 1]]\n",
    "print(arr6)"
   ]
  },
  {
   "cell_type": "code",
   "execution_count": 100,
   "metadata": {},
   "outputs": [
    {
     "data": {
      "text/plain": [
       "array([6, 7, 8, 9])"
      ]
     },
     "execution_count": 100,
     "metadata": {},
     "output_type": "execute_result"
    }
   ],
   "source": [
    "arr3 = arr1d[arr1d > 5]\n",
    "arr3"
   ]
  },
  {
   "cell_type": "code",
   "execution_count": 96,
   "metadata": {},
   "outputs": [
    {
     "data": {
      "text/plain": [
       "array([False, False, False, False, False,  True,  True,  True,  True])"
      ]
     },
     "execution_count": 96,
     "metadata": {},
     "output_type": "execute_result"
    }
   ],
   "source": [
    "arr1d > 5"
   ]
  },
  {
   "cell_type": "code",
   "execution_count": 141,
   "metadata": {},
   "outputs": [
    {
     "name": "stdout",
     "output_type": "stream",
     "text": [
      "[5 6 7 8]\n"
     ]
    },
    {
     "data": {
      "text/plain": [
       "array([6, 7, 8, 9])"
      ]
     },
     "execution_count": 141,
     "metadata": {},
     "output_type": "execute_result"
    }
   ],
   "source": [
    "index = np.array([5,6,7,8])\n",
    "print(index)\n",
    "arr4 = arr1d[index]\n",
    "arr4"
   ]
  },
  {
   "cell_type": "code",
   "execution_count": 165,
   "metadata": {},
   "outputs": [
    {
     "name": "stdout",
     "output_type": "stream",
     "text": [
      "원본 :  [3 1 9 5]\n",
      "sort1 :  [1 3 5 9]\n",
      "원본 :  [3 1 9 5]\n"
     ]
    }
   ],
   "source": [
    "org_arr = np.array([3,1,9,5])\n",
    "print(\"원본 : \", org_arr)\n",
    "sort_arr1 = np.sort(org_arr)\n",
    "print('sort1 : ', sort_arr1)\n",
    "print(\"원본 : \", org_arr)"
   ]
  },
  {
   "cell_type": "code",
   "execution_count": 111,
   "metadata": {},
   "outputs": [
    {
     "data": {
      "text/plain": [
       "array([1, 3, 5, 9])"
      ]
     },
     "execution_count": 111,
     "metadata": {},
     "output_type": "execute_result"
    }
   ],
   "source": [
    "np.sort(org_arr)\n"
   ]
  },
  {
   "cell_type": "code",
   "execution_count": 112,
   "metadata": {},
   "outputs": [
    {
     "data": {
      "text/plain": [
       "array([3, 1, 9, 5])"
      ]
     },
     "execution_count": 112,
     "metadata": {},
     "output_type": "execute_result"
    }
   ],
   "source": [
    "org_arr"
   ]
  },
  {
   "cell_type": "code",
   "execution_count": 167,
   "metadata": {},
   "outputs": [
    {
     "name": "stdout",
     "output_type": "stream",
     "text": [
      "arr2 :  None\n",
      "오리지날 :  [1 3 5 9]\n"
     ]
    }
   ],
   "source": [
    "sort_arr2 = org_arr.sort()\n",
    "print('arr2 : ', sort_arr2)\n",
    "print('오리지날 : ', org_arr)"
   ]
  },
  {
   "cell_type": "code",
   "execution_count": 114,
   "metadata": {},
   "outputs": [
    {
     "data": {
      "text/plain": [
       "array([1, 3, 5, 9])"
      ]
     },
     "execution_count": 114,
     "metadata": {},
     "output_type": "execute_result"
    }
   ],
   "source": [
    "np.sort(org_arr)"
   ]
  },
  {
   "cell_type": "code",
   "execution_count": 115,
   "metadata": {},
   "outputs": [],
   "source": [
    "org_arr.sort()"
   ]
  },
  {
   "cell_type": "code",
   "execution_count": 168,
   "metadata": {},
   "outputs": [
    {
     "data": {
      "text/plain": [
       "array([9, 5, 3, 1])"
      ]
     },
     "execution_count": 168,
     "metadata": {},
     "output_type": "execute_result"
    }
   ],
   "source": [
    "\n",
    "desc_arr1 = np.sort(org_arr)[::-1]\n",
    "desc_arr1\n"
   ]
  },
  {
   "cell_type": "code",
   "execution_count": 122,
   "metadata": {},
   "outputs": [
    {
     "data": {
      "text/plain": [
       "array([9, 5, 3, 1])"
      ]
     },
     "execution_count": 122,
     "metadata": {},
     "output_type": "execute_result"
    }
   ],
   "source": [
    "desc_arr1"
   ]
  },
  {
   "cell_type": "code",
   "execution_count": 143,
   "metadata": {},
   "outputs": [
    {
     "name": "stdout",
     "output_type": "stream",
     "text": [
      "[[ 7  1]\n",
      " [ 8 12]]\n"
     ]
    }
   ],
   "source": [
    "arr2d = np.array([[8, 12],\n",
    "                 [7, 1]])\n",
    "sort_arr2_axis0 = np.sort(arr2d, axis = 0)\n",
    "print(sort_arr2_axis0)"
   ]
  },
  {
   "cell_type": "code",
   "execution_count": 169,
   "metadata": {},
   "outputs": [
    {
     "name": "stdout",
     "output_type": "stream",
     "text": [
      "[[ 8 12]\n",
      " [ 1  7]]\n"
     ]
    }
   ],
   "source": [
    "arr2d = np.array([[12, 8],\n",
    "                 [7, 1]])\n",
    "sort_arr2_axis2 = np.sort(arr2d, axis= 1)\n",
    "print(sort_arr2_axis2)"
   ]
  },
  {
   "cell_type": "code",
   "execution_count": 128,
   "metadata": {},
   "outputs": [
    {
     "name": "stdout",
     "output_type": "stream",
     "text": [
      "<class 'numpy.ndarray'>\n",
      "[1 0 3 2]\n"
     ]
    }
   ],
   "source": [
    "org_arr = np.array([3, 1, 9, 5])\n",
    "sort_ind = np.argsort(org_arr)\n",
    "print(type(sort_ind))\n",
    "print(sort_ind)"
   ]
  },
  {
   "cell_type": "code",
   "execution_count": 129,
   "metadata": {},
   "outputs": [],
   "source": [
    "name_arr = np.array(['John', 'Mike', 'Sarah', 'Kate', 'Samuel'])\n",
    "score_arr = np.array([78,95,84,98,88])\n",
    "\n",
    "score_ind = np.argsort(score_arr)"
   ]
  },
  {
   "cell_type": "code",
   "execution_count": 130,
   "metadata": {},
   "outputs": [
    {
     "data": {
      "text/plain": [
       "array([0, 2, 4, 1, 3], dtype=int32)"
      ]
     },
     "execution_count": 130,
     "metadata": {},
     "output_type": "execute_result"
    }
   ],
   "source": [
    "score_ind"
   ]
  },
  {
   "cell_type": "code",
   "execution_count": 132,
   "metadata": {},
   "outputs": [
    {
     "name": "stdout",
     "output_type": "stream",
     "text": [
      "['John' 'Sarah' 'Samuel' 'Mike' 'Kate']\n"
     ]
    }
   ],
   "source": [
    "print(name_arr[score_ind])"
   ]
  },
  {
   "cell_type": "code",
   "execution_count": 133,
   "metadata": {},
   "outputs": [
    {
     "data": {
      "text/plain": [
       "array(['John', 'Sarah', 'Samuel', 'Mike', 'Kate'], dtype='<U6')"
      ]
     },
     "execution_count": 133,
     "metadata": {},
     "output_type": "execute_result"
    }
   ],
   "source": [
    "name_arr[[0, 2, 4, 1, 3]]"
   ]
  },
  {
   "cell_type": "code",
   "execution_count": null,
   "metadata": {},
   "outputs": [],
   "source": []
  }
 ],
 "metadata": {
  "kernelspec": {
   "display_name": "Python 3",
   "language": "python",
   "name": "python3"
  },
  "language_info": {
   "codemirror_mode": {
    "name": "ipython",
    "version": 3
   },
   "file_extension": ".py",
   "mimetype": "text/x-python",
   "name": "python",
   "nbconvert_exporter": "python",
   "pygments_lexer": "ipython3",
   "version": "3.8.3"
  }
 },
 "nbformat": 4,
 "nbformat_minor": 4
}
